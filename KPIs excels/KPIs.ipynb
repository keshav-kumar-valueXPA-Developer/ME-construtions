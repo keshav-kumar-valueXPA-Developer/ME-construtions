{
 "cells": [
  {
   "cell_type": "code",
   "execution_count": null,
   "metadata": {},
   "outputs": [
    {
     "data": {
      "text/plain": [
       "'./Segment_1.xlsx'"
      ]
     },
     "execution_count": 2,
     "metadata": {},
     "output_type": "execute_result"
    }
   ],
   "source": [
    "import pandas as pd\n",
    "import numpy as np\n",
    "from datetime import datetime\n",
    "\n",
    "# Number of records to generate\n",
    "num_records = 100\n",
    "\n",
    "# Generate sample data\n",
    "def generate_data():\n",
    "    project_ids = [f\"PJT-{1000 + i}\" for i in range(num_records)]\n",
    "    project_names = [f\"Project {i}\" for i in range(1, num_records + 1)]\n",
    "    values = np.random.randint(50000, 200000, num_records)\n",
    "    dates = [datetime.now().strftime(\"%Y-%m-%d %H:%M:%S\") for _ in range(num_records)]\n",
    "    ids = [f\"UUID-{i}\" for i in range(num_records)]  # Simulating UUIDs for now\n",
    "    return pd.DataFrame({\"id\": ids, \"project_id\": project_ids, \"project_name\": project_names, \"value\": values, \"date\": dates})\n",
    "\n",
    "# Define KPI variable sheets with values\n",
    "segment_1_sheets = {\n",
    "    \"Earned Value (EV)\": generate_data(),\n",
    "    \"Actual Cost (AC)\": generate_data(),\n",
    "    \"Planned Value (PV)\": generate_data(),\n",
    "    \"Rework Hours\": generate_data(),\n",
    "    \"Total Hours Worked\": generate_data()\n",
    "}\n",
    "\n",
    "# File path for Segment 1\n",
    "file_path = \"./Segment_1_cost_overruns.xlsx\"\n",
    "\n",
    "# Save each sheet inside the same Excel file\n",
    "with pd.ExcelWriter(file_path, engine=\"xlsxwriter\") as writer:\n",
    "    for sheet_name, df in segment_1_sheets.items():\n",
    "        df.to_excel(writer, sheet_name=sheet_name, index=False)\n",
    "\n",
    "file_path\n"
   ]
  },
  {
   "cell_type": "code",
   "execution_count": 2,
   "metadata": {},
   "outputs": [
    {
     "data": {
      "text/plain": [
       "('./Segment_2_Productivity.xlsx', './Segment_4_Labour_Management.xlsx')"
      ]
     },
     "execution_count": 2,
     "metadata": {},
     "output_type": "execute_result"
    }
   ],
   "source": [
    "import pandas as pd\n",
    "import numpy as np\n",
    "import uuid\n",
    "\n",
    "# Number of records to generate\n",
    "num_records = 100\n",
    "\n",
    "# Generate sample project IDs and names\n",
    "project_ids = [f\"PJT-{2000 + i}\" for i in range(num_records)]\n",
    "project_names = [f\"Project {i}\" for i in range(1, num_records + 1)]\n",
    "\n",
    "# Function to generate a DataFrame with a single column\n",
    "def create_variable_sheet(variable_name, values):\n",
    "    return pd.DataFrame({\n",
    "        \"id\": [str(uuid.uuid4()) for _ in range(num_records)],\n",
    "        \"project_id\": project_ids,\n",
    "        \"project_name\": project_names,\n",
    "        \"value\": values\n",
    "    })\n",
    "\n",
    "# 📌 **Segment 2 - Productivity KPI Sheets**\n",
    "segment_2_sheets = {\n",
    "    \"Units Completed\": create_variable_sheet(\"Units Completed\", np.random.randint(100, 10000, num_records)),\n",
    "    \"Labour Hours\": create_variable_sheet(\"Labour Hours\", np.random.randint(1000, 50000, num_records)),\n",
    "    \"Equipment Active Time\": create_variable_sheet(\"Equipment Active Time\", np.random.randint(500, 20000, num_records)),\n",
    "    \"Total Available Time\": create_variable_sheet(\"Total Available Time\", np.random.randint(1000, 80000, num_records)),\n",
    "    \"Direct Labour Hours\": create_variable_sheet(\"Direct Labour Hours\", np.random.randint(500, 30000, num_records)),\n",
    "    \"Indirect Labour Hours\": create_variable_sheet(\"Indirect Labour Hours\", np.random.randint(100, 10000, num_records)),\n",
    "    \"Planned Milestone\": create_variable_sheet(\"Planned Milestone\", np.random.randint(5, 50, num_records)),\n",
    "    \"Actual Milestone\": create_variable_sheet(\"Actual Milestone\", np.random.randint(5, 50, num_records)),\n",
    "    \"Cost Index\": create_variable_sheet(\"Cost Index\", np.random.uniform(0.5, 2.0, num_records).round(2)),\n",
    "    \"Industry Benchmark\": create_variable_sheet(\"Industry Benchmark\", np.random.uniform(0.5, 2.0, num_records).round(2))\n",
    "}\n",
    "\n",
    "# 📌 **Segment 4 - Labour Management KPI Sheets**\n",
    "segment_4_sheets = {\n",
    "    \"Training Attendance\": create_variable_sheet(\"Training Attendance\", np.random.randint(10, 500, num_records)),\n",
    "    \"Employee Count\": create_variable_sheet(\"Employee Count\", np.random.randint(50, 5000, num_records)),\n",
    "    \"Attendance Records\": create_variable_sheet(\"Attendance Records\", np.random.randint(500, 10000, num_records)),\n",
    "    \"Scheduled Workdays\": create_variable_sheet(\"Scheduled Workdays\", np.random.randint(200, 365, num_records)),\n",
    "    \"Separation Data\": create_variable_sheet(\"Separation Data\", np.random.randint(5, 500, num_records)),\n",
    "    \"Average Workforce\": create_variable_sheet(\"Average Workforce\", np.random.randint(50, 5000, num_records)),\n",
    "    \"Recordable Incidents\": create_variable_sheet(\"Recordable Incidents\", np.random.randint(0, 50, num_records)),\n",
    "    \"Total Hours Worked\": create_variable_sheet(\"Total Hours Worked\", np.random.randint(10000, 500000, num_records)),\n",
    "    \"Certified Workers\": create_variable_sheet(\"Certified Workers\", np.random.randint(50, 5000, num_records)),\n",
    "    \"Total Workers\": create_variable_sheet(\"Total Workers\", np.random.randint(50, 5000, num_records))\n",
    "}\n",
    "\n",
    "# Save Segment 2 (Productivity) Sheets in Excel\n",
    "file_path_segment_2 = \"./Segment_2_Productivity.xlsx\"\n",
    "with pd.ExcelWriter(file_path_segment_2, engine=\"xlsxwriter\") as writer:\n",
    "    for sheet_name, df in segment_2_sheets.items():\n",
    "        df.to_excel(writer, sheet_name=sheet_name, index=False)\n",
    "\n",
    "# Save Segment 4 (Labour Management) Sheets in Excel\n",
    "file_path_segment_4 = \"./Segment_4_Labour_Management.xlsx\"\n",
    "with pd.ExcelWriter(file_path_segment_4, engine=\"xlsxwriter\") as writer:\n",
    "    for sheet_name, df in segment_4_sheets.items():\n",
    "        df.to_excel(writer, sheet_name=sheet_name, index=False)\n",
    "\n",
    "file_path_segment_2, file_path_segment_4\n"
   ]
  },
  {
   "cell_type": "code",
   "execution_count": 6,
   "metadata": {},
   "outputs": [
    {
     "data": {
      "text/plain": [
       "('./Segment_5_Risk_Management.xlsx', './Segment_6_Supply_Chain.xlsx')"
      ]
     },
     "execution_count": 6,
     "metadata": {},
     "output_type": "execute_result"
    }
   ],
   "source": [
    "import pandas as pd\n",
    "import numpy as np\n",
    "import uuid\n",
    "from datetime import datetime\n",
    "\n",
    "# Number of records to generate\n",
    "num_records = 100\n",
    "\n",
    "# Generate sample project IDs and names\n",
    "project_ids = [f\"PJT-{1000 + i}\" for i in range(num_records)]\n",
    "project_names = [f\"Project {i}\" for i in range(1, num_records + 1)]\n",
    "\n",
    "# Function to generate a DataFrame with a single column\n",
    "def create_variable_sheet(variable_name, values):\n",
    "    return pd.DataFrame({\n",
    "        \"id\": [str(uuid.uuid4()) for _ in range(num_records)],\n",
    "        \"project_id\": project_ids,\n",
    "        \"project_name\": project_names,\n",
    "        \"value\": values\n",
    "    })\n",
    "\n",
    "# Generate Risk Management & Contracting Models Sheets\n",
    "risk_mgmt_sheets = {\n",
    "    \"Contract Change Orders\": create_variable_sheet(\"Contract Change Orders\", np.random.randint(0, 50, num_records)),\n",
    "    \"Total Variation Days\": create_variable_sheet(\"Total Variation Days\", np.random.randint(1, 365, num_records)),\n",
    "    \"Number of Variation Orders\": create_variable_sheet(\"Number of Variation Orders\", np.random.randint(1, 20, num_records)),\n",
    "    \"Risk Register Updates\": create_variable_sheet(\"Risk Register Updates\", np.random.randint(0, 100, num_records)),\n",
    "    \"Project Duration (Months)\": create_variable_sheet(\"Project Duration (Months)\", np.random.randint(6, 60, num_records)),\n",
    "    \"Claims Filed\": create_variable_sheet(\"Claims Filed\", np.random.randint(0, 10, num_records)),\n",
    "    \"Total Contracts\": create_variable_sheet(\"Total Contracts\", np.random.randint(1, 100, num_records)),\n",
    "    \"Risk Probabilities\": create_variable_sheet(\"Risk Probabilities\", [str(list(np.random.uniform(0, 1, 5))) for _ in range(num_records)]),\n",
    "    \"Risk Impacts\": create_variable_sheet(\"Risk Impacts\", [str(list(np.random.randint(1, 10, 5))) for _ in range(num_records)])\n",
    "}\n",
    "\n",
    "# Generate Supply Chain Sheets\n",
    "supply_chain_sheets = {\n",
    "    \"Total Lead Time\": create_variable_sheet(\"Total Lead Time\", np.random.randint(10, 300, num_records)),\n",
    "    \"Items Procured\": create_variable_sheet(\"Items Procured\", np.random.randint(10, 500, num_records)),\n",
    "    \"Cost of Materials Used\": create_variable_sheet(\"Cost of Materials Used\", np.random.randint(50000, 5000000, num_records)),\n",
    "    \"Average Inventory Value\": create_variable_sheet(\"Average Inventory Value\", np.random.randint(10000, 1000000, num_records)),\n",
    "    \"Stock-Out Events\": create_variable_sheet(\"Stock-Out Events\", np.random.randint(0, 10, num_records)),\n",
    "    \"Total Project Days\": create_variable_sheet(\"Total Project Days\", np.random.randint(30, 1000, num_records)),\n",
    "    \"On-Time Deliveries\": create_variable_sheet(\"On-Time Deliveries\", np.random.randint(50, 500, num_records)),\n",
    "    \"Total Deliveries\": create_variable_sheet(\"Total Deliveries\", np.random.randint(50, 600, num_records)),\n",
    "    \"Wasted Material Volume\": create_variable_sheet(\"Wasted Material Volume\", np.random.randint(100, 50000, num_records)),\n",
    "    \"Total Material Purchased\": create_variable_sheet(\"Total Material Purchased\", np.random.randint(50000, 1000000, num_records)),\n",
    "    \"Accepted Materials\": create_variable_sheet(\"Accepted Materials\", np.random.randint(100, 1000, num_records)),\n",
    "    \"Total Materials Delivered\": create_variable_sheet(\"Total Materials Delivered\", np.random.randint(100, 1200, num_records))\n",
    "}\n",
    "\n",
    "# Save Risk Management Sheets in Excel\n",
    "file_path_risk_mgmt = \"./Segment_5_Risk_Management.xlsx\"\n",
    "with pd.ExcelWriter(file_path_risk_mgmt, engine=\"xlsxwriter\") as writer:\n",
    "    for sheet_name, df in risk_mgmt_sheets.items():\n",
    "        df.to_excel(writer, sheet_name=sheet_name, index=False)\n",
    "\n",
    "# Save Supply Chain Sheets in Excel\n",
    "file_path_supply_chain = \"./Segment_6_Supply_Chain.xlsx\"\n",
    "with pd.ExcelWriter(file_path_supply_chain, engine=\"xlsxwriter\") as writer:\n",
    "    for sheet_name, df in supply_chain_sheets.items():\n",
    "        df.to_excel(writer, sheet_name=sheet_name, index=False)\n",
    "\n",
    "file_path_risk_mgmt, file_path_supply_chain\n"
   ]
  }
 ],
 "metadata": {
  "kernelspec": {
   "display_name": "Python 3",
   "language": "python",
   "name": "python3"
  },
  "language_info": {
   "codemirror_mode": {
    "name": "ipython",
    "version": 3
   },
   "file_extension": ".py",
   "mimetype": "text/x-python",
   "name": "python",
   "nbconvert_exporter": "python",
   "pygments_lexer": "ipython3",
   "version": "3.11.9"
  }
 },
 "nbformat": 4,
 "nbformat_minor": 2
}
